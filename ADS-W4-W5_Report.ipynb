{
 "cells": [
  {
   "cell_type": "markdown",
   "metadata": {},
   "source": [
    "# Applied Data Science - Capstone Project Report"
   ]
  },
  {
   "cell_type": "markdown",
   "metadata": {},
   "source": [
    "## Introduction"
   ]
  },
  {
   "cell_type": "markdown",
   "metadata": {},
   "source": [
    "### Bussines Problem"
   ]
  },
  {
   "cell_type": "markdown",
   "metadata": {},
   "source": [
    "A company dedicated to the rent and sale of real estate housing wants to reduce the operational cost in the process of recommending neighborhoods for their customers."
   ]
  },
  {
   "cell_type": "markdown",
   "metadata": {},
   "source": [
    "### Objetive"
   ]
  },
  {
   "cell_type": "markdown",
   "metadata": {},
   "source": [
    "Automatically recommend neighborhoods with greater similarity to the client's current neighborhood in the desired destination city.\n",
    "\n",
    "This task can be achieved by using clustering algorithms to find out the similarity between neighbourhoods (actual -> target) and determine good recomendations for customers while reducing operational costs to the company.\n",
    "\n",
    "> **NOTE:** For this project, similarity of neighborhoods is determined by the common venues available where customers are used to live."
   ]
  },
  {
   "cell_type": "markdown",
   "metadata": {},
   "source": [
    "## Data"
   ]
  },
  {
   "cell_type": "markdown",
   "metadata": {},
   "source": [
    "### Scope"
   ]
  },
  {
   "cell_type": "markdown",
   "metadata": {},
   "source": [
    "For this project we're going to simulate a customer who lives in a random neighbourhood of Toronto, CA and is willing to move to New York City, US."
   ]
  },
  {
   "cell_type": "markdown",
   "metadata": {},
   "source": [
    "### Required Data"
   ]
  },
  {
   "cell_type": "markdown",
   "metadata": {},
   "source": [
    "This project requires different kinds of data such as geolocation data and venues information.\n",
    "\n",
    "Geolocation Infomation:\n",
    "\n",
    "* Neighbourhoods in Toronto.\n",
    "* Neighbourhoods in New Yor City.\n",
    "\n",
    "Venues Information:\n",
    "\n",
    "* Venues for each neighbourhood in Toronto.\n",
    "* Venues for each neighbourhood in New York."
   ]
  },
  {
   "cell_type": "markdown",
   "metadata": {},
   "source": [
    "### Data Sources"
   ]
  },
  {
   "cell_type": "markdown",
   "metadata": {},
   "source": [
    "Follow is a list of the data sources to use for this project.\n",
    "\n",
    "* [New York City Open Data](https://data.cityofnewyork.us/City-Government/Neighborhood-Names-GIS/99bc-9p23): Geolocation data.\n",
    "* [Toronto Most Common Venues](https://github.com/cdCarlos/coursera_capston/blob/master/toronto_common_venues.csv): Geolocation data.\n",
    "* [Foursquare API](https://developer.foursquare.com/): Venues data"
   ]
  }
 ],
 "metadata": {
  "kernelspec": {
   "display_name": "Python 3",
   "language": "python",
   "name": "python3"
  },
  "language_info": {
   "codemirror_mode": {
    "name": "ipython",
    "version": 3
   },
   "file_extension": ".py",
   "mimetype": "text/x-python",
   "name": "python",
   "nbconvert_exporter": "python",
   "pygments_lexer": "ipython3",
   "version": "3.6.5"
  }
 },
 "nbformat": 4,
 "nbformat_minor": 2
}
